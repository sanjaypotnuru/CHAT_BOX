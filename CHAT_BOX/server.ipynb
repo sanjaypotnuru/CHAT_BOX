{
 "cells": [
  {
   "cell_type": "code",
   "execution_count": 3,
   "metadata": {},
   "outputs": [
    {
     "name": "stdout",
     "output_type": "stream",
     "text": [
      "For server side\n",
      "connected by: ('192.168.1.2', 57238)\n",
      "received b'hi'\n",
      "received b'hello'\n",
      "received b'rama rao garu bagunara'\n",
      "received b'end'\n"
     ]
    }
   ],
   "source": [
    "import socket\n",
    "print(\"For server side\")\n",
    "#HOST=\"192.168.72.236\"\n",
    "HOST=socket.gethostname()\n",
    "PORT=12345\n",
    "s=socket.socket()\n",
    "s.bind((HOST,PORT))\n",
    "s.listen(1)\n",
    "conn,addr=s.accept()\n",
    "print(\"connected by:\",addr)\n",
    "while True:\n",
    "    data=conn.recv(1024)\n",
    "    print('received',repr(data))\n",
    "    reply=input(\"message:\")\n",
    "    conn.sendall(reply.encode())\n",
    "    if reply=='end':\n",
    "        break\n",
    "conn.close()   "
   ]
  }
 ],
 "metadata": {
  "interpreter": {
   "hash": "23784c1f7cb08f751fc8275aaeeb793366452f178ab646d6f5c554e80b94c083"
  },
  "kernelspec": {
   "display_name": "Python 3.9.7 ('base')",
   "language": "python",
   "name": "python3"
  },
  "language_info": {
   "codemirror_mode": {
    "name": "ipython",
    "version": 3
   },
   "file_extension": ".py",
   "mimetype": "text/x-python",
   "name": "python",
   "nbconvert_exporter": "python",
   "pygments_lexer": "ipython3",
   "version": "3.9.7"
  },
  "orig_nbformat": 4
 },
 "nbformat": 4,
 "nbformat_minor": 2
}
