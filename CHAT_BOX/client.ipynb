{
 "cells": [
  {
   "cell_type": "code",
   "execution_count": 1,
   "metadata": {},
   "outputs": [
    {
     "name": "stdout",
     "output_type": "stream",
     "text": [
      "For client side\n",
      "Recieved b'hello'\n",
      "Recieved b'are u fine'\n",
      "Recieved b'bAGUNANU'\n"
     ]
    }
   ],
   "source": [
    "import socket\n",
    "print(\"For client side\")\n",
    "#HOST=\"192.168.212.236\"\n",
    "HOST=socket.gethostname()\n",
    "PORT=12345\n",
    "s=socket.socket()\n",
    "s.connect((HOST,PORT))\n",
    "while True:\n",
    "    message=input(\"Ur msg: \")\n",
    "    s.send(message.encode())\n",
    "    if message=='end':\n",
    "        break\n",
    "    reply=s.recv(1024)\n",
    "    print(\"Recieved\",repr(reply))\n",
    "s.close()"
   ]
  },
  {
   "cell_type": "markdown",
   "metadata": {},
   "source": []
  }
 ],
 "metadata": {
  "interpreter": {
   "hash": "23784c1f7cb08f751fc8275aaeeb793366452f178ab646d6f5c554e80b94c083"
  },
  "kernelspec": {
   "display_name": "Python 3.9.7 ('base')",
   "language": "python",
   "name": "python3"
  },
  "language_info": {
   "codemirror_mode": {
    "name": "ipython",
    "version": 3
   },
   "file_extension": ".py",
   "mimetype": "text/x-python",
   "name": "python",
   "nbconvert_exporter": "python",
   "pygments_lexer": "ipython3",
   "version": "3.9.7"
  },
  "orig_nbformat": 4
 },
 "nbformat": 4,
 "nbformat_minor": 2
}
